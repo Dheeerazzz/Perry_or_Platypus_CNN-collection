{
 "cells": [
  {
   "cell_type": "code",
   "execution_count": 1,
   "metadata": {},
   "outputs": [],
   "source": [
    "from selenium import webdriver\n",
    "from selenium.webdriver.common.by import By\n",
    "import os\n",
    "from selenium.webdriver.support.ui import WebDriverWait\n",
    "from selenium.webdriver.support import expected_conditions as EC\n",
    "import time\n",
    "from openpyxl import Workbook"
   ]
  },
  {
   "cell_type": "code",
   "execution_count": 2,
   "metadata": {},
   "outputs": [],
   "source": [
    "os.environ['PATH']+= r'C:/SeleniumDrivers'"
   ]
  },
  {
   "cell_type": "code",
   "execution_count": 3,
   "metadata": {},
   "outputs": [],
   "source": [
    "driver=webdriver.Chrome()\n",
    "driver.get('https://agmesnyc.com/products/small-sculpted-heart-pendant-2-0')"
   ]
  },
  {
   "cell_type": "code",
   "execution_count": 111,
   "metadata": {},
   "outputs": [],
   "source": [
    "vendor=driver.find_element(By.CSS_SELECTOR,'a[class=\"vendor h6 link-faded\"]')"
   ]
  },
  {
   "cell_type": "code",
   "execution_count": 112,
   "metadata": {},
   "outputs": [],
   "source": [
    "name=driver.find_element(By.CSS_SELECTOR,'h1[class=\"product-title h3\"]')"
   ]
  },
  {
   "cell_type": "code",
   "execution_count": 124,
   "metadata": {},
   "outputs": [],
   "source": [
    "price=driver.find_element(By.CSS_SELECTOR,'sale-price[class=\"h4 text-subdued\"]')"
   ]
  },
  {
   "cell_type": "code",
   "execution_count": 130,
   "metadata": {},
   "outputs": [
    {
     "data": {
      "text/plain": [
       "'32,100.00'"
      ]
     },
     "execution_count": 130,
     "metadata": {},
     "output_type": "execute_result"
    }
   ],
   "source": [
    "(price.text)[15:]"
   ]
  },
  {
   "cell_type": "code",
   "execution_count": 4,
   "metadata": {},
   "outputs": [
    {
     "name": "stdout",
     "output_type": "stream",
     "text": [
      "<selenium.webdriver.remote.webelement.WebElement (session=\"25351692380ad68860fbc8ab142f091c\", element=\"f.19DE986D4471F7489F329D6D960458A9.d.23287DDFF9DD8C72F354B2B7BC066808.e.5886\")>\n"
     ]
    }
   ],
   "source": [
    "x=driver.find_element(By.CSS_SELECTOR,'svg[aria-label=\"Dismiss\"]')\n",
    "x.click()\n",
    "time.sleep(5)\n",
    "shipping_details=driver.find_element(By.CSS_SELECTOR, 'span[class=\"accordion__toggle h6\"]')\n",
    "shipping_details.click()\n",
    "delivery=driver.find_element(By.CSS_SELECTOR,'div[class=\"accordion__content prose\"]')\n",
    "print(delivery)\n",
    "delivery=delivery.text"
   ]
  },
  {
   "cell_type": "code",
   "execution_count": 167,
   "metadata": {},
   "outputs": [],
   "source": [
    "delivery=driver.find_element(By.CSS_SELECTOR,'div[class=\"accordion__content prose\"]')"
   ]
  },
  {
   "cell_type": "code",
   "execution_count": 168,
   "metadata": {},
   "outputs": [
    {
     "data": {
      "text/plain": [
       "'Orders are Shipped via UPS\\nIn-studio pick-up is available for New York City-based customers\\nOur return window has been extended for the Holiday period.\\nWe will not accept returns for orders placed during our Holiday promotion or with a discount of 25% or more applied.\\nWe will not offer price adjustments for orders placed outside of our Holiday promotion dates from November 20th-27th.\\nAll solid gold items are Final Sale and may not be returned, as these pieces are made-to-order.\\nOrders placed before November 28th, 2023:please contact us within 10 days of order receipt to initiate return.\\nOrders placed between November 28th-December 25th, 2023: returns must be initiated by January 5th, 2024.\\nOrders placed after December 25th, 2023: Returns must be initiated within 10 days of order receipt.\\nPlease contact us atcustomerservice@agmesnyc.com'"
      ]
     },
     "execution_count": 168,
     "metadata": {},
     "output_type": "execute_result"
    }
   ],
   "source": [
    "delivery.text"
   ]
  },
  {
   "cell_type": "code",
   "execution_count": 132,
   "metadata": {},
   "outputs": [],
   "source": [
    "description=driver.find_element(By.CSS_SELECTOR,'div[data-block-type=\"description\"]')\n",
    "description=description.text"
   ]
  },
  {
   "cell_type": "code",
   "execution_count": 133,
   "metadata": {},
   "outputs": [
    {
     "data": {
      "text/plain": [
       "'FOR EACH PURCHASE OF THIS STYLE AND ALL OTHERS FROM OUR SYMBOLS OF LOVE COLLECTION WE WILL DONATE 1% TO MOMS FOR MOMS\\nAvailable in Sterling Silver.\\nPendant measures 1\" wide. Chain measures 15 - 16\" long\\nHandmade in NYC\\nAlso available with a small chain - Small Sculpted Heart Pendant\\nAlso available in a larger version with a suede or ivory cord - Sculpted Heart Pendant\\n[[***Engravings may take up to 1 week. Up to 12 characters including spaces. All personalized engravings are Final Sale.]]'"
      ]
     },
     "execution_count": 133,
     "metadata": {},
     "output_type": "execute_result"
    }
   ],
   "source": [
    "description"
   ]
  },
  {
   "cell_type": "code",
   "execution_count": 7,
   "metadata": {},
   "outputs": [],
   "source": [
    "driver=webdriver.Chrome()\n",
    "driver.get('https://agmesnyc.com/collections/cuffs')"
   ]
  },
  {
   "cell_type": "code",
   "execution_count": 8,
   "metadata": {},
   "outputs": [],
   "source": [
    "links = driver.find_elements(By.TAG_NAME, 'a')\n",
    "links=list(set(links))"
   ]
  },
  {
   "cell_type": "code",
   "execution_count": 11,
   "metadata": {},
   "outputs": [],
   "source": [
    "from selenium.webdriver.common.by import By\n",
    "from selenium.webdriver.support.ui import WebDriverWait\n",
    "from selenium.webdriver.support import expected_conditions as EC\n",
    "from selenium.common.exceptions import NoSuchElementException,ElementClickInterceptedException\n",
    "\n",
    "wb = Workbook()\n",
    "ws = wb.active\n",
    "\n",
    "# Define headers for the Excel sheet\n",
    "headers = ['Vendor', 'Name', 'Price', 'Delivery', 'Description']\n",
    "ws.append(headers)\n",
    "i=0\n",
    "# Iterate through each link\n",
    "for link in links:\n",
    "    url = link.get_attribute('href')\n",
    "    if 'https://agmesnyc.com/products/' not in url:\n",
    "        continue\n",
    "    driver.execute_script(\"window.open('\" + url + \"', '_blank');\")\n",
    "    driver.switch_to.window(driver.window_handles[-1])\n",
    "    time.sleep(2)\n",
    "    try:\n",
    "        time.sleep(5)\n",
    "        x=driver.find_element(By.CSS_SELECTOR,'svg[aria-label=\"Dismiss\"]')\n",
    "        x.click()\n",
    "        time.sleep(5)\n",
    "        shipping_details=driver.find_element(By.CSS_SELECTOR, 'span[class=\"accordion__toggle h6\"]')\n",
    "        shipping_details.click()\n",
    "        delivery=driver.find_element(By.CSS_SELECTOR,'div[class=\"accordion__content prose\"]')\n",
    "        print(delivery)\n",
    "        delivery=delivery.text\n",
    "    except NoSuchElementException:\n",
    "        delivery = 'NA'\n",
    "    try:\n",
    "        vendor = driver.find_element(By.CSS_SELECTOR,'a.vendor.h6.link-faded').text\n",
    "    except NoSuchElementException:\n",
    "        vendor = 'NA'\n",
    "    try:\n",
    "        name = driver.find_element(By.CSS_SELECTOR,'h1.product-title').text\n",
    "    except NoSuchElementException:\n",
    "        name = 'NA'\n",
    "    try:\n",
    "        price=(driver.find_element(By.CSS_SELECTOR,'sale-price[class=\"h4 text-subdued\"]').text)[15:]\n",
    "    except NoSuchElementException:\n",
    "        price = 'NA'\n",
    "    \n",
    "    try:\n",
    "        description=driver.find_element(By.CSS_SELECTOR,'div[data-block-type=\"description\"]').text\n",
    "    except NoSuchElementException:\n",
    "        description = 'NA'\n",
    "    \n",
    "    ws.append([vendor, name, price, delivery, description])\n",
    "    driver.close()\n",
    "    driver.switch_to.window(driver.window_handles[0])\n",
    "    i+=1\n",
    "    if i==10:\n",
    "        break\n",
    "\n",
    "wb.save(\"product_info.xlsx\")\n"
   ]
  },
  {
   "cell_type": "code",
   "execution_count": 10,
   "metadata": {},
   "outputs": [],
   "source": [
    "wb.save(\"product_info.xlsx\")"
   ]
  },
  {
   "cell_type": "code",
   "execution_count": null,
   "metadata": {},
   "outputs": [],
   "source": []
  }
 ],
 "metadata": {
  "kernelspec": {
   "display_name": "Python 3",
   "language": "python",
   "name": "python3"
  },
  "language_info": {
   "codemirror_mode": {
    "name": "ipython",
    "version": 3
   },
   "file_extension": ".py",
   "mimetype": "text/x-python",
   "name": "python",
   "nbconvert_exporter": "python",
   "pygments_lexer": "ipython3",
   "version": "3.10.10"
  }
 },
 "nbformat": 4,
 "nbformat_minor": 2
}
