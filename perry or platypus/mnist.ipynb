{
 "cells": [
  {
   "cell_type": "markdown",
   "metadata": {},
   "source": [
    "## Binary classification for two numbers"
   ]
  },
  {
   "cell_type": "code",
   "execution_count": 1,
   "metadata": {},
   "outputs": [
    {
     "name": "stdout",
     "output_type": "stream",
     "text": [
      "WARNING:tensorflow:From c:\\Users\\sriyo\\AppData\\Local\\Programs\\Python\\Python310\\lib\\site-packages\\keras\\src\\losses.py:2976: The name tf.losses.sparse_softmax_cross_entropy is deprecated. Please use tf.compat.v1.losses.sparse_softmax_cross_entropy instead.\n",
      "\n"
     ]
    }
   ],
   "source": [
    "import tensorflow as tf"
   ]
  },
  {
   "cell_type": "code",
   "execution_count": 8,
   "metadata": {},
   "outputs": [],
   "source": [
    "import numpy as np"
   ]
  },
  {
   "cell_type": "code",
   "execution_count": 2,
   "metadata": {},
   "outputs": [],
   "source": [
    "(x_train, y_train), (x_test, y_test) = tf.keras.datasets.mnist.load_data()"
   ]
  },
  {
   "cell_type": "code",
   "execution_count": 6,
   "metadata": {},
   "outputs": [],
   "source": [
    "x_train = x_train/ 255.0\n",
    "x_test = x_test/ 255.0\n",
    "\n",
    "x_train = x_train.reshape((-1, 28, 28, 1))  \n",
    "x_test = x_test.reshape((-1, 28, 28, 1))\n"
   ]
  },
  {
   "cell_type": "code",
   "execution_count": 9,
   "metadata": {},
   "outputs": [],
   "source": [
    "# Select classes for binary classification (e.g., digits 3 and 8)\n",
    "class_3_indices = y_train == 3\n",
    "class_8_indices = y_train == 8\n",
    "binary_indices_train = np.logical_or(class_3_indices, class_8_indices)\n",
    "\n",
    "class_3_indices_test = y_test == 3\n",
    "class_8_indices_test = y_test == 8\n",
    "binary_indices_test = np.logical_or(class_3_indices_test, class_8_indices_test)\n",
    "\n",
    "x_binary_train = x_train[binary_indices_train]\n",
    "y_binary_train = y_train[binary_indices_train]\n",
    "x_binary_test = x_test[binary_indices_test]\n",
    "y_binary_test = y_test[binary_indices_test]\n",
    "\n",
    "# Convert labels to binary (0 for class 3, 1 for class 8)\n",
    "y_binary_train[y_binary_train == 3] = 0\n",
    "y_binary_train[y_binary_train == 8] = 1\n",
    "y_binary_test[y_binary_test == 3] = 0\n",
    "y_binary_test[y_binary_test == 8] = 1\n"
   ]
  },
  {
   "cell_type": "code",
   "execution_count": 12,
   "metadata": {},
   "outputs": [
    {
     "name": "stdout",
     "output_type": "stream",
     "text": [
      "Epoch 1/50\n",
      "WARNING:tensorflow:From c:\\Users\\sriyo\\AppData\\Local\\Programs\\Python\\Python310\\lib\\site-packages\\keras\\src\\utils\\tf_utils.py:492: The name tf.ragged.RaggedTensorValue is deprecated. Please use tf.compat.v1.ragged.RaggedTensorValue instead.\n",
      "\n",
      "WARNING:tensorflow:From c:\\Users\\sriyo\\AppData\\Local\\Programs\\Python\\Python310\\lib\\site-packages\\keras\\src\\engine\\base_layer_utils.py:384: The name tf.executing_eagerly_outside_functions is deprecated. Please use tf.compat.v1.executing_eagerly_outside_functions instead.\n",
      "\n",
      "300/300 [==============================] - 7s 13ms/step - loss: 0.0643 - accuracy: 0.9728 - val_loss: 0.0132 - val_accuracy: 0.9950\n",
      "Epoch 2/50\n",
      "300/300 [==============================] - 4s 12ms/step - loss: 0.0204 - accuracy: 0.9933 - val_loss: 0.0198 - val_accuracy: 0.9925\n",
      "Epoch 3/50\n",
      "300/300 [==============================] - 5s 15ms/step - loss: 0.0175 - accuracy: 0.9948 - val_loss: 0.0391 - val_accuracy: 0.9917\n",
      "Epoch 4/50\n",
      "300/300 [==============================] - 4s 14ms/step - loss: 0.0135 - accuracy: 0.9953 - val_loss: 0.0266 - val_accuracy: 0.9933\n",
      "Epoch 5/50\n",
      "300/300 [==============================] - 4s 13ms/step - loss: 0.0118 - accuracy: 0.9965 - val_loss: 0.0103 - val_accuracy: 0.9971\n",
      "Epoch 6/50\n",
      "300/300 [==============================] - 4s 14ms/step - loss: 0.0128 - accuracy: 0.9951 - val_loss: 0.0086 - val_accuracy: 0.9975\n",
      "Epoch 7/50\n",
      "300/300 [==============================] - 4s 13ms/step - loss: 0.0095 - accuracy: 0.9969 - val_loss: 0.0179 - val_accuracy: 0.9950\n",
      "Epoch 8/50\n",
      "300/300 [==============================] - 5s 16ms/step - loss: 0.0187 - accuracy: 0.9946 - val_loss: 0.0089 - val_accuracy: 0.9971\n",
      "Epoch 9/50\n",
      "300/300 [==============================] - 4s 13ms/step - loss: 0.0104 - accuracy: 0.9962 - val_loss: 0.0228 - val_accuracy: 0.9937\n",
      "Epoch 10/50\n",
      "300/300 [==============================] - 4s 13ms/step - loss: 0.0073 - accuracy: 0.9977 - val_loss: 0.0445 - val_accuracy: 0.9871\n",
      "Epoch 11/50\n",
      "300/300 [==============================] - 4s 14ms/step - loss: 0.0071 - accuracy: 0.9975 - val_loss: 0.0094 - val_accuracy: 0.9975\n",
      "Epoch 12/50\n",
      "300/300 [==============================] - 4s 15ms/step - loss: 0.0126 - accuracy: 0.9963 - val_loss: 0.0366 - val_accuracy: 0.9917\n",
      "Epoch 13/50\n",
      "300/300 [==============================] - 4s 14ms/step - loss: 0.0130 - accuracy: 0.9965 - val_loss: 0.0089 - val_accuracy: 0.9958\n",
      "Epoch 14/50\n",
      "300/300 [==============================] - 4s 13ms/step - loss: 0.0092 - accuracy: 0.9982 - val_loss: 0.0293 - val_accuracy: 0.9929\n",
      "Epoch 15/50\n",
      "300/300 [==============================] - 4s 12ms/step - loss: 0.0115 - accuracy: 0.9968 - val_loss: 0.0324 - val_accuracy: 0.9962\n",
      "Epoch 16/50\n",
      "300/300 [==============================] - 5s 15ms/step - loss: 0.0115 - accuracy: 0.9981 - val_loss: 0.0137 - val_accuracy: 0.9950\n",
      "Epoch 17/50\n",
      "300/300 [==============================] - 4s 15ms/step - loss: 0.0058 - accuracy: 0.9979 - val_loss: 0.0095 - val_accuracy: 0.9979\n",
      "Epoch 18/50\n",
      "300/300 [==============================] - 5s 16ms/step - loss: 0.0069 - accuracy: 0.9980 - val_loss: 0.0075 - val_accuracy: 0.9975\n",
      "Epoch 19/50\n",
      "300/300 [==============================] - 4s 14ms/step - loss: 0.0065 - accuracy: 0.9980 - val_loss: 0.0306 - val_accuracy: 0.9942\n",
      "Epoch 20/50\n",
      "300/300 [==============================] - 4s 15ms/step - loss: 0.0141 - accuracy: 0.9969 - val_loss: 0.0105 - val_accuracy: 0.9987\n",
      "Epoch 21/50\n",
      "300/300 [==============================] - 4s 12ms/step - loss: 0.0023 - accuracy: 0.9991 - val_loss: 0.0248 - val_accuracy: 0.9962\n",
      "Epoch 22/50\n",
      "300/300 [==============================] - 4s 14ms/step - loss: 0.0079 - accuracy: 0.9980 - val_loss: 0.0128 - val_accuracy: 0.9975\n",
      "Epoch 23/50\n",
      "300/300 [==============================] - 4s 12ms/step - loss: 0.0041 - accuracy: 0.9987 - val_loss: 0.0104 - val_accuracy: 0.9971\n",
      "Epoch 24/50\n",
      "300/300 [==============================] - 4s 12ms/step - loss: 0.0011 - accuracy: 0.9996 - val_loss: 0.0180 - val_accuracy: 0.9975\n",
      "Epoch 25/50\n",
      "300/300 [==============================] - 4s 13ms/step - loss: 2.5193e-04 - accuracy: 0.9999 - val_loss: 0.0166 - val_accuracy: 0.9975\n",
      "Epoch 26/50\n",
      "300/300 [==============================] - 4s 13ms/step - loss: 0.0035 - accuracy: 0.9991 - val_loss: 0.0782 - val_accuracy: 0.9896\n",
      "Epoch 27/50\n",
      "300/300 [==============================] - 4s 14ms/step - loss: 0.0281 - accuracy: 0.9933 - val_loss: 0.0116 - val_accuracy: 0.9950\n",
      "Epoch 28/50\n",
      "300/300 [==============================] - 4s 13ms/step - loss: 0.0192 - accuracy: 0.9961 - val_loss: 0.0100 - val_accuracy: 0.9958\n",
      "Epoch 29/50\n",
      "300/300 [==============================] - 4s 12ms/step - loss: 0.0052 - accuracy: 0.9986 - val_loss: 0.0315 - val_accuracy: 0.9975\n",
      "Epoch 30/50\n",
      "300/300 [==============================] - 4s 13ms/step - loss: 0.0102 - accuracy: 0.9978 - val_loss: 0.0134 - val_accuracy: 0.9967\n",
      "Epoch 31/50\n",
      "300/300 [==============================] - 4s 14ms/step - loss: 0.0016 - accuracy: 0.9993 - val_loss: 0.0113 - val_accuracy: 0.9979\n",
      "Epoch 32/50\n",
      "300/300 [==============================] - 4s 13ms/step - loss: 8.6362e-04 - accuracy: 0.9996 - val_loss: 0.0176 - val_accuracy: 0.9983\n",
      "Epoch 33/50\n",
      "300/300 [==============================] - 4s 12ms/step - loss: 3.2146e-04 - accuracy: 0.9999 - val_loss: 0.0168 - val_accuracy: 0.9983\n",
      "Epoch 34/50\n",
      "300/300 [==============================] - 3s 11ms/step - loss: 1.4888e-04 - accuracy: 0.9999 - val_loss: 0.0160 - val_accuracy: 0.9987\n",
      "Epoch 35/50\n",
      "300/300 [==============================] - 4s 12ms/step - loss: 1.2931e-04 - accuracy: 1.0000 - val_loss: 0.0160 - val_accuracy: 0.9987\n",
      "Epoch 36/50\n",
      "300/300 [==============================] - 4s 12ms/step - loss: 1.2293e-04 - accuracy: 1.0000 - val_loss: 0.0161 - val_accuracy: 0.9987\n",
      "Epoch 37/50\n",
      "300/300 [==============================] - 4s 14ms/step - loss: 1.1685e-04 - accuracy: 1.0000 - val_loss: 0.0161 - val_accuracy: 0.9987\n",
      "Epoch 38/50\n",
      "300/300 [==============================] - 4s 14ms/step - loss: 1.1021e-04 - accuracy: 1.0000 - val_loss: 0.0161 - val_accuracy: 0.9987\n",
      "Epoch 39/50\n",
      "300/300 [==============================] - 4s 12ms/step - loss: 1.0355e-04 - accuracy: 1.0000 - val_loss: 0.0162 - val_accuracy: 0.9987\n",
      "Epoch 40/50\n",
      "300/300 [==============================] - 5s 16ms/step - loss: 9.6690e-05 - accuracy: 1.0000 - val_loss: 0.0162 - val_accuracy: 0.9987\n",
      "Epoch 41/50\n",
      "300/300 [==============================] - 5s 16ms/step - loss: 8.9939e-05 - accuracy: 1.0000 - val_loss: 0.0163 - val_accuracy: 0.9987\n",
      "Epoch 42/50\n",
      "300/300 [==============================] - 4s 13ms/step - loss: 8.3016e-05 - accuracy: 1.0000 - val_loss: 0.0163 - val_accuracy: 0.9987\n",
      "Epoch 43/50\n",
      "300/300 [==============================] - 4s 14ms/step - loss: 7.6415e-05 - accuracy: 1.0000 - val_loss: 0.0163 - val_accuracy: 0.9987\n",
      "Epoch 44/50\n",
      "300/300 [==============================] - 4s 13ms/step - loss: 6.9733e-05 - accuracy: 1.0000 - val_loss: 0.0164 - val_accuracy: 0.9987\n",
      "Epoch 45/50\n",
      "300/300 [==============================] - 4s 12ms/step - loss: 6.3532e-05 - accuracy: 1.0000 - val_loss: 0.0164 - val_accuracy: 0.9987\n",
      "Epoch 46/50\n",
      "300/300 [==============================] - 4s 15ms/step - loss: 5.7410e-05 - accuracy: 1.0000 - val_loss: 0.0165 - val_accuracy: 0.9987\n",
      "Epoch 47/50\n",
      "300/300 [==============================] - 4s 13ms/step - loss: 5.1693e-05 - accuracy: 1.0000 - val_loss: 0.0166 - val_accuracy: 0.9987\n",
      "Epoch 48/50\n",
      "300/300 [==============================] - 4s 15ms/step - loss: 4.6624e-05 - accuracy: 1.0000 - val_loss: 0.0166 - val_accuracy: 0.9987\n",
      "Epoch 49/50\n",
      "300/300 [==============================] - 4s 13ms/step - loss: 4.2670e-05 - accuracy: 1.0000 - val_loss: 0.0167 - val_accuracy: 0.9987\n",
      "Epoch 50/50\n",
      "300/300 [==============================] - 4s 15ms/step - loss: 3.7595e-05 - accuracy: 1.0000 - val_loss: 0.0168 - val_accuracy: 0.9987\n"
     ]
    },
    {
     "name": "stderr",
     "output_type": "stream",
     "text": [
      "c:\\Users\\sriyo\\AppData\\Local\\Programs\\Python\\Python310\\lib\\site-packages\\keras\\src\\engine\\training.py:3103: UserWarning: You are saving your model as an HDF5 file via `model.save()`. This file format is considered legacy. We recommend using instead the native Keras format, e.g. `model.save('my_model.keras')`.\n",
      "  saving_api.save_model(\n"
     ]
    }
   ],
   "source": [
    "import numpy as np\n",
    "from keras.models import Sequential\n",
    "from keras.layers import Conv2D, MaxPooling2D, Flatten, Dense\n",
    "from keras.optimizers import Adam\n",
    "\n",
    "model = Sequential()\n",
    "model.add(Conv2D(32, (10,10), activation='relu', input_shape=x_binary_train.shape[1:]))\n",
    "model.add(MaxPooling2D((2, 2)))\n",
    "model.add(Conv2D(64, (3,3), activation='relu'))\n",
    "model.add(MaxPooling2D((2, 2)))\n",
    "model.add(Flatten())\n",
    "model.add(Dense(64, activation='relu'))\n",
    "model.add(Dense(1, activation='sigmoid'))\n",
    "\n",
    "optimizer = Adam(learning_rate=0.009)\n",
    "\n",
    "# Compile the model with the specified optimizer\n",
    "model.compile(optimizer=optimizer,\n",
    "              loss='binary_crossentropy',\n",
    "              metrics=['accuracy'])\n",
    "\n",
    "\n",
    "model.fit(x_binary_train, y_binary_train, epochs=50, batch_size=32, validation_split=0.2)\n",
    "\n",
    "model.save('my_cnn_model.h5')\n"
   ]
  },
  {
   "cell_type": "code",
   "execution_count": 13,
   "metadata": {},
   "outputs": [
    {
     "name": "stdout",
     "output_type": "stream",
     "text": [
      "62/62 [==============================] - 0s 6ms/step - loss: 0.0255 - accuracy: 0.9985\n"
     ]
    }
   ],
   "source": [
    "loss, accuracy = model.evaluate(x_binary_test, y_binary_test)"
   ]
  },
  {
   "cell_type": "code",
   "execution_count": 19,
   "metadata": {},
   "outputs": [
    {
     "name": "stdout",
     "output_type": "stream",
     "text": [
      "1/1 [==============================] - 0s 44ms/step\n"
     ]
    }
   ],
   "source": [
    "# Assuming you have already loaded and trained your model\n",
    "import numpy as np\n",
    "import cv2\n",
    "\n",
    "# Load the image\n",
    "#img = cv2.imread(\"C:/Users/sriyo/Pictures/Screenshots/Screenshot 2024-04-10 231524.png\")\n",
    "img = cv2.imread(\"C:/Users/sriyo/Pictures/Screenshots/Screenshot 2024-04-10 231559.png\")\n",
    "\n",
    "img_resized = cv2.resize(img, (28, 28))\n",
    "\n",
    "# Convert the image to grayscale\n",
    "img_gray = cv2.cvtColor(img_resized, cv2.COLOR_BGR2GRAY)\n",
    "\n",
    "# Normalize pixel values to range [0, 1]\n",
    "img_normalized = img_gray.astype('float32') / 255.0\n",
    "\n",
    "# Reshape the image to match the model's input shape\n",
    "custom_input = img_normalized.reshape((-1, 28, 28, 1))\n",
    "\n",
    "# Make predictions\n",
    "predictions = model.predict(custom_input)\n",
    "\n"
   ]
  },
  {
   "cell_type": "code",
   "execution_count": 20,
   "metadata": {},
   "outputs": [
    {
     "data": {
      "text/plain": [
       "array([[0.98141146]], dtype=float32)"
      ]
     },
     "execution_count": 20,
     "metadata": {},
     "output_type": "execute_result"
    }
   ],
   "source": [
    "predictions"
   ]
  },
  {
   "cell_type": "code",
   "execution_count": 21,
   "metadata": {},
   "outputs": [
    {
     "name": "stdout",
     "output_type": "stream",
     "text": [
      "8\n"
     ]
    }
   ],
   "source": [
    "if predictions<0.5:\n",
    "    print('3')\n",
    "else:\n",
    "    print('8')"
   ]
  },
  {
   "cell_type": "code",
   "execution_count": 22,
   "metadata": {},
   "outputs": [
    {
     "name": "stdout",
     "output_type": "stream",
     "text": [
      "INFO:tensorflow:Assets written to: mnist_3_8_binary\\assets\n"
     ]
    },
    {
     "name": "stderr",
     "output_type": "stream",
     "text": [
      "INFO:tensorflow:Assets written to: mnist_3_8_binary\\assets\n"
     ]
    }
   ],
   "source": [
    "model.save('mnist_3_8_binary')"
   ]
  },
  {
   "cell_type": "code",
   "execution_count": null,
   "metadata": {},
   "outputs": [],
   "source": []
  }
 ],
 "metadata": {
  "kernelspec": {
   "display_name": "Python 3",
   "language": "python",
   "name": "python3"
  },
  "language_info": {
   "codemirror_mode": {
    "name": "ipython",
    "version": 3
   },
   "file_extension": ".py",
   "mimetype": "text/x-python",
   "name": "python",
   "nbconvert_exporter": "python",
   "pygments_lexer": "ipython3",
   "version": "3.10.10"
  }
 },
 "nbformat": 4,
 "nbformat_minor": 2
}
